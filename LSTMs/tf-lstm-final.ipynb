{
 "cells": [
  {
   "cell_type": "markdown",
   "id": "71326de0-b489-4c3e-bf4f-b66ebd56b285",
   "metadata": {},
   "source": [
    "## Install libraries "
   ]
  },
  {
   "cell_type": "code",
   "execution_count": 24,
   "id": "dd0d8dcc-e834-4279-8ea9-7cb711078cb2",
   "metadata": {},
   "outputs": [
    {
     "name": "stdout",
     "output_type": "stream",
     "text": [
      "Collecting numpy==1.22.4\n",
      "  Using cached numpy-1.22.4-cp39-cp39-win_amd64.whl.metadata (2.1 kB)\n",
      "Using cached numpy-1.22.4-cp39-cp39-win_amd64.whl (14.7 MB)\n",
      "Installing collected packages: numpy\n",
      "  Attempting uninstall: numpy\n",
      "    Found existing installation: numpy 1.26.4\n",
      "    Uninstalling numpy-1.26.4:\n",
      "      Successfully uninstalled numpy-1.26.4\n",
      "Successfully installed numpy-1.22.4\n"
     ]
    },
    {
     "name": "stderr",
     "output_type": "stream",
     "text": [
      "ERROR: pip's dependency resolver does not currently take into account all the packages that are installed. This behaviour is the source of the following dependency conflicts.\n",
      "contourpy 1.3.0 requires numpy>=1.23, but you have numpy 1.22.4 which is incompatible.\n",
      "fastparquet 2024.11.0 requires pandas>=1.5.0, but you have pandas 1.3.5 which is incompatible.\n"
     ]
    }
   ],
   "source": [
    "!pip install numpy==1.22.4"
   ]
  },
  {
   "cell_type": "code",
   "execution_count": 25,
   "id": "34ea00d7-c63e-4625-8c3c-77c5759adcf6",
   "metadata": {},
   "outputs": [
    {
     "name": "stdout",
     "output_type": "stream",
     "text": [
      "Requirement already satisfied: pandas==1.3.5 in c:\\users\\matth\\anaconda3\\envs\\tf\\lib\\site-packages (1.3.5)\n",
      "Requirement already satisfied: python-dateutil>=2.7.3 in c:\\users\\matth\\anaconda3\\envs\\tf\\lib\\site-packages (from pandas==1.3.5) (2.9.0.post0)\n",
      "Requirement already satisfied: pytz>=2017.3 in c:\\users\\matth\\anaconda3\\envs\\tf\\lib\\site-packages (from pandas==1.3.5) (2024.1)\n",
      "Requirement already satisfied: numpy>=1.17.3 in c:\\users\\matth\\anaconda3\\envs\\tf\\lib\\site-packages (from pandas==1.3.5) (1.22.4)\n",
      "Requirement already satisfied: six>=1.5 in c:\\users\\matth\\anaconda3\\envs\\tf\\lib\\site-packages (from python-dateutil>=2.7.3->pandas==1.3.5) (1.16.0)\n"
     ]
    }
   ],
   "source": [
    "!pip install pandas==1.3.5"
   ]
  },
  {
   "cell_type": "code",
   "execution_count": 26,
   "id": "245a6679-fc26-4f20-b151-d5b14d542a4d",
   "metadata": {},
   "outputs": [
    {
     "name": "stdout",
     "output_type": "stream",
     "text": [
      "[PhysicalDevice(name='/physical_device:GPU:0', device_type='GPU')]\n"
     ]
    }
   ],
   "source": [
    "import tensorflow as tf\n",
    "print(tf.config.list_physical_devices('GPU'))\n",
    "#print(tf.config.list_physical_devices('GPU'))"
   ]
  },
  {
   "cell_type": "code",
   "execution_count": 27,
   "id": "3629d857",
   "metadata": {
    "papermill": {
     "duration": 0.023765,
     "end_time": "2023-04-22T13:59:20.686375",
     "exception": false,
     "start_time": "2023-04-22T13:59:20.662610",
     "status": "completed"
    },
    "tags": []
   },
   "outputs": [],
   "source": [
    "import numpy as np # linear algebra\n",
    "import pandas as pd # data processing, CSV file I/O (e.g. pd.read_csv)\n",
    "import json"
   ]
  },
  {
   "cell_type": "code",
   "execution_count": 28,
   "id": "0cf9dfe2",
   "metadata": {
    "papermill": {
     "duration": 9.783552,
     "end_time": "2023-04-22T13:59:30.477104",
     "exception": false,
     "start_time": "2023-04-22T13:59:20.693552",
     "status": "completed"
    },
    "tags": []
   },
   "outputs": [
    {
     "name": "stdout",
     "output_type": "stream",
     "text": [
      "Name: tensorflow\n",
      "Version: 2.10.0\n",
      "Summary: TensorFlow is an open source machine learning framework for everyone.\n",
      "Home-page: https://www.tensorflow.org/\n",
      "Author: Google Inc.\n",
      "Author-email: packages@tensorflow.org\n",
      "License: Apache 2.0\n",
      "Location: c:\\users\\matth\\anaconda3\\envs\\tf\\lib\\site-packages\n",
      "Requires: absl-py, astunparse, flatbuffers, gast, google-pasta, grpcio, h5py, keras, keras-preprocessing, libclang, numpy, opt-einsum, packaging, protobuf, setuptools, six, tensorboard, tensorflow-estimator, tensorflow-io-gcs-filesystem, termcolor, typing-extensions, wrapt\n",
      "Required-by: \n"
     ]
    }
   ],
   "source": [
    "!pip show tensorflow"
   ]
  },
  {
   "cell_type": "code",
   "execution_count": 29,
   "id": "f938651b",
   "metadata": {
    "papermill": {
     "duration": 11.299922,
     "end_time": "2023-04-22T13:59:41.784640",
     "exception": false,
     "start_time": "2023-04-22T13:59:30.484718",
     "status": "completed"
    },
    "tags": []
   },
   "outputs": [
    {
     "name": "stdout",
     "output_type": "stream",
     "text": [
      "Requirement already satisfied: tslearn in c:\\users\\matth\\anaconda3\\envs\\tf\\lib\\site-packages (0.6.3)\n",
      "Requirement already satisfied: plotly in c:\\users\\matth\\anaconda3\\envs\\tf\\lib\\site-packages (5.24.1)\n",
      "Requirement already satisfied: numpy in c:\\users\\matth\\anaconda3\\envs\\tf\\lib\\site-packages (from tslearn) (1.22.4)\n",
      "Requirement already satisfied: scipy in c:\\users\\matth\\anaconda3\\envs\\tf\\lib\\site-packages (from tslearn) (1.13.1)\n",
      "Requirement already satisfied: scikit-learn in c:\\users\\matth\\anaconda3\\envs\\tf\\lib\\site-packages (from tslearn) (1.5.2)\n",
      "Requirement already satisfied: numba in c:\\users\\matth\\anaconda3\\envs\\tf\\lib\\site-packages (from tslearn) (0.60.0)\n",
      "Requirement already satisfied: joblib in c:\\users\\matth\\anaconda3\\envs\\tf\\lib\\site-packages (from tslearn) (1.4.2)\n",
      "Requirement already satisfied: tenacity>=6.2.0 in c:\\users\\matth\\anaconda3\\envs\\tf\\lib\\site-packages (from plotly) (9.0.0)\n",
      "Requirement already satisfied: packaging in c:\\users\\matth\\anaconda3\\envs\\tf\\lib\\site-packages (from plotly) (24.1)\n",
      "Requirement already satisfied: llvmlite<0.44,>=0.43.0dev0 in c:\\users\\matth\\anaconda3\\envs\\tf\\lib\\site-packages (from numba->tslearn) (0.43.0)\n",
      "Requirement already satisfied: threadpoolctl>=3.1.0 in c:\\users\\matth\\anaconda3\\envs\\tf\\lib\\site-packages (from scikit-learn->tslearn) (3.5.0)\n"
     ]
    }
   ],
   "source": [
    "!pip install tslearn plotly"
   ]
  },
  {
   "cell_type": "code",
   "execution_count": 30,
   "id": "fe68f64c-f1ca-4349-8bb4-2fa72016db0d",
   "metadata": {},
   "outputs": [
    {
     "name": "stdout",
     "output_type": "stream",
     "text": [
      "Requirement already satisfied: tqdm in c:\\users\\matth\\anaconda3\\envs\\tf\\lib\\site-packages (4.67.1)\n",
      "Requirement already satisfied: colorama in c:\\users\\matth\\anaconda3\\envs\\tf\\lib\\site-packages (from tqdm) (0.4.6)\n"
     ]
    }
   ],
   "source": [
    "!pip install tqdm"
   ]
  },
  {
   "cell_type": "code",
   "execution_count": 31,
   "id": "4e9e361e",
   "metadata": {
    "papermill": {
     "duration": 0.017282,
     "end_time": "2023-04-22T13:59:41.809849",
     "exception": false,
     "start_time": "2023-04-22T13:59:41.792567",
     "status": "completed"
    },
    "tags": []
   },
   "outputs": [],
   "source": [
    "# mode = \"debugging\"\n",
    "mode = \"training\"\n",
    "# mode = \"submission\""
   ]
  },
  {
   "cell_type": "markdown",
   "id": "9bfba704",
   "metadata": {
    "papermill": {
     "duration": 0.007393,
     "end_time": "2023-04-22T13:59:41.824880",
     "exception": false,
     "start_time": "2023-04-22T13:59:41.817487",
     "status": "completed"
    },
    "tags": []
   },
   "source": [
    "## Understanding the data"
   ]
  },
  {
   "cell_type": "code",
   "execution_count": 32,
   "id": "f12891d3",
   "metadata": {
    "papermill": {
     "duration": 0.257115,
     "end_time": "2023-04-22T13:59:42.090722",
     "exception": false,
     "start_time": "2023-04-22T13:59:41.833607",
     "status": "completed"
    },
    "tags": []
   },
   "outputs": [
    {
     "name": "stdout",
     "output_type": "stream",
     "text": [
      "(94477, 4)\n"
     ]
    },
    {
     "data": {
      "text/html": [
       "<div>\n",
       "<style scoped>\n",
       "    .dataframe tbody tr th:only-of-type {\n",
       "        vertical-align: middle;\n",
       "    }\n",
       "\n",
       "    .dataframe tbody tr th {\n",
       "        vertical-align: top;\n",
       "    }\n",
       "\n",
       "    .dataframe thead th {\n",
       "        text-align: right;\n",
       "    }\n",
       "</style>\n",
       "<table border=\"1\" class=\"dataframe\">\n",
       "  <thead>\n",
       "    <tr style=\"text-align: right;\">\n",
       "      <th></th>\n",
       "      <th>path</th>\n",
       "      <th>participant_id</th>\n",
       "      <th>sequence_id</th>\n",
       "      <th>sign</th>\n",
       "    </tr>\n",
       "  </thead>\n",
       "  <tbody>\n",
       "    <tr>\n",
       "      <th>0</th>\n",
       "      <td>train_landmark_files/26734/1000035562.parquet</td>\n",
       "      <td>26734</td>\n",
       "      <td>1000035562</td>\n",
       "      <td>blow</td>\n",
       "    </tr>\n",
       "    <tr>\n",
       "      <th>1</th>\n",
       "      <td>train_landmark_files/28656/1000106739.parquet</td>\n",
       "      <td>28656</td>\n",
       "      <td>1000106739</td>\n",
       "      <td>wait</td>\n",
       "    </tr>\n",
       "    <tr>\n",
       "      <th>2</th>\n",
       "      <td>train_landmark_files/16069/100015657.parquet</td>\n",
       "      <td>16069</td>\n",
       "      <td>100015657</td>\n",
       "      <td>cloud</td>\n",
       "    </tr>\n",
       "    <tr>\n",
       "      <th>3</th>\n",
       "      <td>train_landmark_files/25571/1000210073.parquet</td>\n",
       "      <td>25571</td>\n",
       "      <td>1000210073</td>\n",
       "      <td>bird</td>\n",
       "    </tr>\n",
       "    <tr>\n",
       "      <th>4</th>\n",
       "      <td>train_landmark_files/62590/1000240708.parquet</td>\n",
       "      <td>62590</td>\n",
       "      <td>1000240708</td>\n",
       "      <td>owie</td>\n",
       "    </tr>\n",
       "    <tr>\n",
       "      <th>5</th>\n",
       "      <td>train_landmark_files/26734/1000241583.parquet</td>\n",
       "      <td>26734</td>\n",
       "      <td>1000241583</td>\n",
       "      <td>duck</td>\n",
       "    </tr>\n",
       "    <tr>\n",
       "      <th>6</th>\n",
       "      <td>train_landmark_files/26734/1000255522.parquet</td>\n",
       "      <td>26734</td>\n",
       "      <td>1000255522</td>\n",
       "      <td>minemy</td>\n",
       "    </tr>\n",
       "    <tr>\n",
       "      <th>7</th>\n",
       "      <td>train_landmark_files/32319/1000278229.parquet</td>\n",
       "      <td>32319</td>\n",
       "      <td>1000278229</td>\n",
       "      <td>lips</td>\n",
       "    </tr>\n",
       "    <tr>\n",
       "      <th>8</th>\n",
       "      <td>train_landmark_files/37055/100035691.parquet</td>\n",
       "      <td>37055</td>\n",
       "      <td>100035691</td>\n",
       "      <td>flower</td>\n",
       "    </tr>\n",
       "    <tr>\n",
       "      <th>9</th>\n",
       "      <td>train_landmark_files/29302/100039661.parquet</td>\n",
       "      <td>29302</td>\n",
       "      <td>100039661</td>\n",
       "      <td>time</td>\n",
       "    </tr>\n",
       "  </tbody>\n",
       "</table>\n",
       "</div>"
      ],
      "text/plain": [
       "                                            path  participant_id  sequence_id  \\\n",
       "0  train_landmark_files/26734/1000035562.parquet           26734   1000035562   \n",
       "1  train_landmark_files/28656/1000106739.parquet           28656   1000106739   \n",
       "2   train_landmark_files/16069/100015657.parquet           16069    100015657   \n",
       "3  train_landmark_files/25571/1000210073.parquet           25571   1000210073   \n",
       "4  train_landmark_files/62590/1000240708.parquet           62590   1000240708   \n",
       "5  train_landmark_files/26734/1000241583.parquet           26734   1000241583   \n",
       "6  train_landmark_files/26734/1000255522.parquet           26734   1000255522   \n",
       "7  train_landmark_files/32319/1000278229.parquet           32319   1000278229   \n",
       "8   train_landmark_files/37055/100035691.parquet           37055    100035691   \n",
       "9   train_landmark_files/29302/100039661.parquet           29302    100039661   \n",
       "\n",
       "     sign  \n",
       "0    blow  \n",
       "1    wait  \n",
       "2   cloud  \n",
       "3    bird  \n",
       "4    owie  \n",
       "5    duck  \n",
       "6  minemy  \n",
       "7    lips  \n",
       "8  flower  \n",
       "9    time  "
      ]
     },
     "execution_count": 32,
     "metadata": {},
     "output_type": "execute_result"
    }
   ],
   "source": [
    "# /kaggle/input/asl-signs/train.csv -> asl-signs/train.csv\n",
    "df_train = pd.read_csv(\"asl-signs/train.csv\")\n",
    "print(df_train.shape)\n",
    "df_train.head(10)"
   ]
  },
  {
   "cell_type": "code",
   "execution_count": 33,
   "id": "c9109769",
   "metadata": {
    "papermill": {
     "duration": 0.022115,
     "end_time": "2023-04-22T13:59:42.121029",
     "exception": false,
     "start_time": "2023-04-22T13:59:42.098914",
     "status": "completed"
    },
    "tags": []
   },
   "outputs": [
    {
     "name": "stdout",
     "output_type": "stream",
     "text": [
      "['TV', 'after', 'airplane', 'all', 'alligator', 'animal', 'another', 'any', 'apple', 'arm', 'aunt', 'awake', 'backyard', 'bad', 'balloon', 'bath', 'because', 'bed', 'bedroom', 'bee', 'before', 'beside', 'better', 'bird', 'black', 'blow', 'blue', 'boat', 'book', 'boy', 'brother', 'brown', 'bug', 'bye', 'callonphone', 'can', 'car', 'carrot', 'cat', 'cereal', 'chair', 'cheek', 'child', 'chin', 'chocolate', 'clean', 'close', 'closet', 'cloud', 'clown', 'cow', 'cowboy', 'cry', 'cut', 'cute', 'dad', 'dance', 'dirty', 'dog', 'doll', 'donkey', 'down', 'drawer', 'drink', 'drop', 'dry', 'dryer', 'duck', 'ear', 'elephant', 'empty', 'every', 'eye', 'face', 'fall', 'farm', 'fast', 'feet', 'find', 'fine', 'finger', 'finish', 'fireman', 'first', 'fish', 'flag', 'flower', 'food', 'for', 'frenchfries', 'frog', 'garbage', 'gift', 'giraffe', 'girl', 'give', 'glasswindow', 'go', 'goose', 'grandma', 'grandpa', 'grass', 'green', 'gum', 'hair', 'happy', 'hat', 'hate', 'have', 'haveto', 'head', 'hear', 'helicopter', 'hello', 'hen', 'hesheit', 'hide', 'high', 'home', 'horse', 'hot', 'hungry', 'icecream', 'if', 'into', 'jacket', 'jeans', 'jump', 'kiss', 'kitty', 'lamp', 'later', 'like', 'lion', 'lips', 'listen', 'look', 'loud', 'mad', 'make', 'man', 'many', 'milk', 'minemy', 'mitten', 'mom', 'moon', 'morning', 'mouse', 'mouth', 'nap', 'napkin', 'night', 'no', 'noisy', 'nose', 'not', 'now', 'nuts', 'old', 'on', 'open', 'orange', 'outside', 'owie', 'owl', 'pajamas', 'pen', 'pencil', 'penny', 'person', 'pig', 'pizza', 'please', 'police', 'pool', 'potty', 'pretend', 'pretty', 'puppy', 'puzzle', 'quiet', 'radio', 'rain', 'read', 'red', 'refrigerator', 'ride', 'room', 'sad', 'same', 'say', 'scissors', 'see', 'shhh', 'shirt', 'shoe', 'shower', 'sick', 'sleep', 'sleepy', 'smile', 'snack', 'snow', 'stairs', 'stay', 'sticky', 'store', 'story', 'stuck', 'sun', 'table', 'talk', 'taste', 'thankyou', 'that', 'there', 'think', 'thirsty', 'tiger', 'time', 'tomorrow', 'tongue', 'tooth', 'toothbrush', 'touch', 'toy', 'tree', 'uncle', 'underwear', 'up', 'vacuum', 'wait', 'wake', 'water', 'wet', 'weus', 'where', 'white', 'who', 'why', 'will', 'wolf', 'yellow', 'yes', 'yesterday', 'yourself', 'yucky', 'zebra', 'zipper']\n"
     ]
    }
   ],
   "source": [
    "json_file_path = \"asl-signs/sign_to_prediction_index_map.json\"\n",
    "with open(json_file_path, 'r') as j:\n",
    "     sign_dict = json.loads(j.read())\n",
    "        \n",
    "ordered_signs = list(sign_dict.keys())\n",
    "print(ordered_signs)\n"
   ]
  },
  {
   "cell_type": "code",
   "execution_count": 34,
   "id": "a4b9ddfa",
   "metadata": {
    "papermill": {
     "duration": 0.019971,
     "end_time": "2023-04-22T13:59:42.148891",
     "exception": false,
     "start_time": "2023-04-22T13:59:42.128920",
     "status": "completed"
    },
    "tags": []
   },
   "outputs": [],
   "source": [
    "ROWS_PER_FRAME = 543  # number of landmarks per frame\n",
    "\n",
    "def load_relevant_data_subset(pq_path):\n",
    "    data_columns = ['x', 'y', 'z']\n",
    "    data = pd.read_parquet(pq_path, columns=data_columns).fillna(0)\n",
    "    n_frames = int(len(data) / ROWS_PER_FRAME)\n",
    "    data = data.values.reshape(n_frames, ROWS_PER_FRAME, len(data_columns))\n",
    "    return data.astype(np.float32)\n",
    "\n",
    "def load_relevant_data(pq_path):\n",
    "    data = pd.read_parquet(pq_path).fillna(0)\n",
    "    return data\n"
   ]
  },
  {
   "cell_type": "code",
   "execution_count": 35,
   "id": "36eda918-0e1f-495d-9e9f-8f0ed1d5b554",
   "metadata": {},
   "outputs": [],
   "source": [
    "#!pip install pyarrow"
   ]
  },
  {
   "cell_type": "code",
   "execution_count": 36,
   "id": "6183fd10",
   "metadata": {
    "papermill": {
     "duration": 0.129749,
     "end_time": "2023-04-22T13:59:42.286348",
     "exception": false,
     "start_time": "2023-04-22T13:59:42.156599",
     "status": "completed"
    },
    "tags": []
   },
   "outputs": [
    {
     "data": {
      "text/html": [
       "<div>\n",
       "<style scoped>\n",
       "    .dataframe tbody tr th:only-of-type {\n",
       "        vertical-align: middle;\n",
       "    }\n",
       "\n",
       "    .dataframe tbody tr th {\n",
       "        vertical-align: top;\n",
       "    }\n",
       "\n",
       "    .dataframe thead th {\n",
       "        text-align: right;\n",
       "    }\n",
       "</style>\n",
       "<table border=\"1\" class=\"dataframe\">\n",
       "  <thead>\n",
       "    <tr style=\"text-align: right;\">\n",
       "      <th></th>\n",
       "      <th>frame</th>\n",
       "      <th>row_id</th>\n",
       "      <th>type</th>\n",
       "      <th>landmark_index</th>\n",
       "      <th>x</th>\n",
       "      <th>y</th>\n",
       "      <th>z</th>\n",
       "    </tr>\n",
       "  </thead>\n",
       "  <tbody>\n",
       "    <tr>\n",
       "      <th>0</th>\n",
       "      <td>17</td>\n",
       "      <td>17-face-0</td>\n",
       "      <td>face</td>\n",
       "      <td>0</td>\n",
       "      <td>0.495870</td>\n",
       "      <td>0.478694</td>\n",
       "      <td>-0.037412</td>\n",
       "    </tr>\n",
       "    <tr>\n",
       "      <th>1</th>\n",
       "      <td>17</td>\n",
       "      <td>17-face-1</td>\n",
       "      <td>face</td>\n",
       "      <td>1</td>\n",
       "      <td>0.492222</td>\n",
       "      <td>0.447209</td>\n",
       "      <td>-0.067939</td>\n",
       "    </tr>\n",
       "    <tr>\n",
       "      <th>2</th>\n",
       "      <td>17</td>\n",
       "      <td>17-face-2</td>\n",
       "      <td>face</td>\n",
       "      <td>2</td>\n",
       "      <td>0.492067</td>\n",
       "      <td>0.457237</td>\n",
       "      <td>-0.035722</td>\n",
       "    </tr>\n",
       "    <tr>\n",
       "      <th>3</th>\n",
       "      <td>17</td>\n",
       "      <td>17-face-3</td>\n",
       "      <td>face</td>\n",
       "      <td>3</td>\n",
       "      <td>0.480419</td>\n",
       "      <td>0.415996</td>\n",
       "      <td>-0.050779</td>\n",
       "    </tr>\n",
       "    <tr>\n",
       "      <th>4</th>\n",
       "      <td>17</td>\n",
       "      <td>17-face-4</td>\n",
       "      <td>face</td>\n",
       "      <td>4</td>\n",
       "      <td>0.492035</td>\n",
       "      <td>0.437453</td>\n",
       "      <td>-0.072314</td>\n",
       "    </tr>\n",
       "    <tr>\n",
       "      <th>5</th>\n",
       "      <td>17</td>\n",
       "      <td>17-face-5</td>\n",
       "      <td>face</td>\n",
       "      <td>5</td>\n",
       "      <td>0.491820</td>\n",
       "      <td>0.424721</td>\n",
       "      <td>-0.067133</td>\n",
       "    </tr>\n",
       "    <tr>\n",
       "      <th>6</th>\n",
       "      <td>17</td>\n",
       "      <td>17-face-6</td>\n",
       "      <td>face</td>\n",
       "      <td>6</td>\n",
       "      <td>0.491240</td>\n",
       "      <td>0.394258</td>\n",
       "      <td>-0.032263</td>\n",
       "    </tr>\n",
       "    <tr>\n",
       "      <th>7</th>\n",
       "      <td>17</td>\n",
       "      <td>17-face-7</td>\n",
       "      <td>face</td>\n",
       "      <td>7</td>\n",
       "      <td>0.398341</td>\n",
       "      <td>0.395734</td>\n",
       "      <td>0.017706</td>\n",
       "    </tr>\n",
       "    <tr>\n",
       "      <th>8</th>\n",
       "      <td>17</td>\n",
       "      <td>17-face-8</td>\n",
       "      <td>face</td>\n",
       "      <td>8</td>\n",
       "      <td>0.490602</td>\n",
       "      <td>0.367059</td>\n",
       "      <td>-0.023201</td>\n",
       "    </tr>\n",
       "    <tr>\n",
       "      <th>9</th>\n",
       "      <td>17</td>\n",
       "      <td>17-face-9</td>\n",
       "      <td>face</td>\n",
       "      <td>9</td>\n",
       "      <td>0.490210</td>\n",
       "      <td>0.353400</td>\n",
       "      <td>-0.025720</td>\n",
       "    </tr>\n",
       "  </tbody>\n",
       "</table>\n",
       "</div>"
      ],
      "text/plain": [
       "   frame     row_id  type  landmark_index         x         y         z\n",
       "0     17  17-face-0  face               0  0.495870  0.478694 -0.037412\n",
       "1     17  17-face-1  face               1  0.492222  0.447209 -0.067939\n",
       "2     17  17-face-2  face               2  0.492067  0.457237 -0.035722\n",
       "3     17  17-face-3  face               3  0.480419  0.415996 -0.050779\n",
       "4     17  17-face-4  face               4  0.492035  0.437453 -0.072314\n",
       "5     17  17-face-5  face               5  0.491820  0.424721 -0.067133\n",
       "6     17  17-face-6  face               6  0.491240  0.394258 -0.032263\n",
       "7     17  17-face-7  face               7  0.398341  0.395734  0.017706\n",
       "8     17  17-face-8  face               8  0.490602  0.367059 -0.023201\n",
       "9     17  17-face-9  face               9  0.490210  0.353400 -0.025720"
      ]
     },
     "execution_count": 36,
     "metadata": {},
     "output_type": "execute_result"
    }
   ],
   "source": [
    "idx_plot = 3\n",
    "path_show = \"asl-signs/\"+df_train['path'].values[idx_plot]\n",
    "sign_plot = df_train['sign'].values[idx_plot]\n",
    "path_example = path_show.replace(\"_\", \"_\")\n",
    "\n",
    "df = load_relevant_data(path_show)\n",
    "df.head(10)"
   ]
  },
  {
   "cell_type": "code",
   "execution_count": 37,
   "id": "678462f5",
   "metadata": {
    "papermill": {
     "duration": 0.036859,
     "end_time": "2023-04-22T13:59:42.331967",
     "exception": false,
     "start_time": "2023-04-22T13:59:42.295108",
     "status": "completed"
    },
    "tags": []
   },
   "outputs": [
    {
     "name": "stdout",
     "output_type": "stream",
     "text": [
      "\n",
      "Number of frames: 11\n",
      "Keypoints: 543\n",
      "X, Y Z postions: 3\n",
      "Total number of datapoints in this sequence: 17919\n",
      "\n",
      "Pose landmarks: 33\n",
      "Face landmarks: 468\n",
      "Right hand landmarks: 21\n",
      "Left hand landmarks: 21\n",
      "Total landmarks/keypoints:  543\n"
     ]
    }
   ],
   "source": [
    "path_show = \"asl-signs/\"+df_train['path'].values[1]\n",
    "sign_show = df_train['sign'].values[1]\n",
    "\n",
    "df_example = load_relevant_data_subset(path_show)\n",
    "\n",
    "frames = df_example.shape[0]\n",
    "keypoints = df_example.shape[1]\n",
    "position = df_example.shape[2]\n",
    "\n",
    "print(\"\\nNumber of frames:\", frames)\n",
    "print(\"Keypoints:\", keypoints)\n",
    "print(\"X, Y Z postions:\", position)\n",
    "print(\"Total number of datapoints in this sequence:\", np.prod(df_example.shape))\n",
    "\n",
    "\n",
    "pose_landmarks = 33\n",
    "face_landmarks = 468\n",
    "right_hand_landmarks = 21\n",
    "start_left_hand = face_landmarks\n",
    "left_hand_landmarks = 21\n",
    "start_right_hand = face_landmarks + left_hand_landmarks + pose_landmarks\n",
    "total_landmarks = pose_landmarks + face_landmarks + right_hand_landmarks + left_hand_landmarks\n",
    "\n",
    "\n",
    "print(\"\\nPose landmarks:\", pose_landmarks)\n",
    "print(\"Face landmarks:\", face_landmarks)\n",
    "print(\"Right hand landmarks:\", right_hand_landmarks)\n",
    "print(\"Left hand landmarks:\", left_hand_landmarks)\n",
    "print(\"Total landmarks/keypoints: \", total_landmarks)"
   ]
  },
  {
   "cell_type": "code",
   "execution_count": 38,
   "id": "470a03a4",
   "metadata": {
    "papermill": {
     "duration": 0.024641,
     "end_time": "2023-04-22T13:59:42.365992",
     "exception": false,
     "start_time": "2023-04-22T13:59:42.341351",
     "status": "completed"
    },
    "tags": []
   },
   "outputs": [],
   "source": [
    "from tqdm import tqdm\n",
    "\n",
    "max_sequence_length = 32\n",
    "lip_marks = [61, 185, 40, 39, 37, 0, 267, 269, 270, 409, 291, 78, 191, 80, 81, 82, 13, 312, 311, 310, 415, 308, 95, 88, 178, 87, 14, 317, 402, 318, 324, 146, 91, 181, 84, 17, 314, 405, 321, 375]  \n",
    "\n",
    "lips = lip_marks\n",
    "left_hand = [*range(start_left_hand, start_left_hand+left_hand_landmarks, 1)]\n",
    "right_hand = [*range(start_right_hand, start_right_hand+right_hand_landmarks, 1)]\n",
    "meaningful_keypoints = lips + left_hand + right_hand\n",
    "input_length = len(meaningful_keypoints)*3\n",
    "\n",
    "def get_data(file_paths, y_sign):\n",
    "    \n",
    "    X = np.empty((file_paths.shape[0], max_sequence_length, len(meaningful_keypoints)*3), dtype=float)\n",
    "\n",
    "    for i in tqdm(range(file_paths.shape[0])):\n",
    "        file_name = \"asl-signs/\"+file_paths[i]\n",
    "        data = load_relevant_data_subset(file_name)\n",
    "        \n",
    "        data = data[:, meaningful_keypoints]\n",
    "        \n",
    "        if data.shape[0] < max_sequence_length:\n",
    "            rows = max_sequence_length - data.shape[0]\n",
    "            data = np.append(np.zeros((rows, len(meaningful_keypoints), 3)), data, axis=0)\n",
    "        elif data.shape[0] > max_sequence_length:\n",
    "            data = data[-(max_sequence_length):]\n",
    "\n",
    "        X[i] = data.reshape(max_sequence_length, len(meaningful_keypoints)*3, order='F')\n",
    "        \n",
    "        del data\n",
    "        \n",
    "    X = np.asarray(X).astype(np.float32)\n",
    "        \n",
    "    y = []\n",
    "    for sign in y_sign:\n",
    "        y.append(sign_dict[sign])\n",
    "\n",
    "    y = np.array(y, dtype=int)\n",
    "\n",
    "    return X, y"
   ]
  },
  {
   "cell_type": "markdown",
   "id": "e9ec047d",
   "metadata": {
    "papermill": {
     "duration": 0.008414,
     "end_time": "2023-04-22T13:59:42.382866",
     "exception": false,
     "start_time": "2023-04-22T13:59:42.374452",
     "status": "completed"
    },
    "tags": []
   },
   "source": [
    "# Training the classifier"
   ]
  },
  {
   "cell_type": "markdown",
   "id": "356efeb8",
   "metadata": {
    "papermill": {
     "duration": 0.008707,
     "end_time": "2023-04-22T13:59:42.400247",
     "exception": false,
     "start_time": "2023-04-22T13:59:42.391540",
     "status": "completed"
    },
    "tags": []
   },
   "source": [
    "## LSTM"
   ]
  },
  {
   "cell_type": "code",
   "execution_count": 39,
   "id": "33574ce4-018c-4793-b60f-b85fe077c037",
   "metadata": {},
   "outputs": [
    {
     "name": "stdout",
     "output_type": "stream",
     "text": [
      "Requirement already satisfied: matplotlib==3.8.0 in c:\\users\\matth\\anaconda3\\envs\\tf\\lib\\site-packages (3.8.0)\n",
      "Requirement already satisfied: contourpy>=1.0.1 in c:\\users\\matth\\anaconda3\\envs\\tf\\lib\\site-packages (from matplotlib==3.8.0) (1.3.0)\n",
      "Requirement already satisfied: cycler>=0.10 in c:\\users\\matth\\anaconda3\\envs\\tf\\lib\\site-packages (from matplotlib==3.8.0) (0.12.1)\n",
      "Requirement already satisfied: fonttools>=4.22.0 in c:\\users\\matth\\anaconda3\\envs\\tf\\lib\\site-packages (from matplotlib==3.8.0) (4.55.0)\n",
      "Requirement already satisfied: kiwisolver>=1.0.1 in c:\\users\\matth\\anaconda3\\envs\\tf\\lib\\site-packages (from matplotlib==3.8.0) (1.4.7)\n",
      "Requirement already satisfied: numpy<2,>=1.21 in c:\\users\\matth\\anaconda3\\envs\\tf\\lib\\site-packages (from matplotlib==3.8.0) (1.22.4)\n",
      "Requirement already satisfied: packaging>=20.0 in c:\\users\\matth\\anaconda3\\envs\\tf\\lib\\site-packages (from matplotlib==3.8.0) (24.1)\n",
      "Requirement already satisfied: pillow>=6.2.0 in c:\\users\\matth\\anaconda3\\envs\\tf\\lib\\site-packages (from matplotlib==3.8.0) (11.0.0)\n",
      "Requirement already satisfied: pyparsing>=2.3.1 in c:\\users\\matth\\anaconda3\\envs\\tf\\lib\\site-packages (from matplotlib==3.8.0) (3.2.0)\n",
      "Requirement already satisfied: python-dateutil>=2.7 in c:\\users\\matth\\anaconda3\\envs\\tf\\lib\\site-packages (from matplotlib==3.8.0) (2.9.0.post0)\n",
      "Requirement already satisfied: importlib-resources>=3.2.0 in c:\\users\\matth\\anaconda3\\envs\\tf\\lib\\site-packages (from matplotlib==3.8.0) (6.4.5)\n",
      "Collecting numpy<2,>=1.21 (from matplotlib==3.8.0)\n",
      "  Using cached numpy-1.26.4-cp39-cp39-win_amd64.whl.metadata (61 kB)\n",
      "Requirement already satisfied: zipp>=3.1.0 in c:\\users\\matth\\anaconda3\\envs\\tf\\lib\\site-packages (from importlib-resources>=3.2.0->matplotlib==3.8.0) (3.21.0)\n",
      "Requirement already satisfied: six>=1.5 in c:\\users\\matth\\anaconda3\\envs\\tf\\lib\\site-packages (from python-dateutil>=2.7->matplotlib==3.8.0) (1.16.0)\n",
      "Using cached numpy-1.26.4-cp39-cp39-win_amd64.whl (15.8 MB)\n",
      "Installing collected packages: numpy\n",
      "  Attempting uninstall: numpy\n",
      "    Found existing installation: numpy 1.22.4\n",
      "    Uninstalling numpy-1.22.4:\n",
      "      Successfully uninstalled numpy-1.22.4\n",
      "Successfully installed numpy-1.26.4\n"
     ]
    },
    {
     "name": "stderr",
     "output_type": "stream",
     "text": [
      "ERROR: pip's dependency resolver does not currently take into account all the packages that are installed. This behaviour is the source of the following dependency conflicts.\n",
      "fastparquet 2024.11.0 requires pandas>=1.5.0, but you have pandas 1.3.5 which is incompatible.\n"
     ]
    }
   ],
   "source": [
    "!pip install matplotlib==3.8.0"
   ]
  },
  {
   "cell_type": "code",
   "execution_count": 40,
   "id": "78b62a81-7d5c-450d-b5b8-134f3f185cda",
   "metadata": {},
   "outputs": [
    {
     "name": "stdout",
     "output_type": "stream",
     "text": [
      "3.9.20 (main, Oct  3 2024, 07:38:01) [MSC v.1929 64 bit (AMD64)]\n"
     ]
    }
   ],
   "source": [
    "import sys\n",
    "print(sys.version)"
   ]
  },
  {
   "cell_type": "code",
   "execution_count": 41,
   "id": "0b236612",
   "metadata": {
    "papermill": {
     "duration": 7.987602,
     "end_time": "2023-04-22T13:59:50.396718",
     "exception": false,
     "start_time": "2023-04-22T13:59:42.409116",
     "status": "completed"
    },
    "tags": []
   },
   "outputs": [],
   "source": [
    "import tensorflow as tf\n",
    "from tensorflow.keras import datasets, layers, models, Input, optimizers\n",
    "import matplotlib.pyplot as plt\n",
    "from sklearn.model_selection import train_test_split\n",
    "from tensorflow.keras.utils import pad_sequences"
   ]
  },
  {
   "cell_type": "code",
   "execution_count": 42,
   "id": "05f9533c-c5af-4e85-860a-5d1af49f364a",
   "metadata": {},
   "outputs": [],
   "source": [
    "# a single dense block followed by a normalization block and relu activation\n",
    "def dense_block(units):\n",
    "    fc = layers.Dense(units)\n",
    "    norm = layers.LayerNormalization()\n",
    "    act = layers.Activation(\"relu\")\n",
    "    drop = layers.Dropout(0.1)\n",
    "    return lambda x: drop(act(norm(fc(x))))\n",
    "\n",
    "# the final dense block for the classification\n",
    "def classifier_lstm(units):\n",
    "    lstm = layers.LSTM(units)\n",
    "    out = layers.Dense(250, activation=\"softmax\", name=\"outputs\")\n",
    "    return lambda x: out(lstm(x))\n"
   ]
  },
  {
   "cell_type": "code",
   "execution_count": 43,
   "id": "097051ea-3159-4e02-bcf9-0c3c6a81e52a",
   "metadata": {},
   "outputs": [
    {
     "name": "stdout",
     "output_type": "stream",
     "text": [
      "Model: \"model_1\"\n",
      "_________________________________________________________________\n",
      " Layer (type)                Output Shape              Param #   \n",
      "=================================================================\n",
      " input_2 (InputLayer)        [(None, None, 246)]       0         \n",
      "                                                                 \n",
      " dense_1 (Dense)             (None, None, 256)         63232     \n",
      "                                                                 \n",
      " layer_normalization_1 (Laye  (None, None, 256)        512       \n",
      " rNormalization)                                                 \n",
      "                                                                 \n",
      " activation_1 (Activation)   (None, None, 256)         0         \n",
      "                                                                 \n",
      " dropout_1 (Dropout)         (None, None, 256)         0         \n",
      "                                                                 \n",
      " lstm_1 (LSTM)               (None, 256)               525312    \n",
      "                                                                 \n",
      " outputs (Dense)             (None, 250)               64250     \n",
      "                                                                 \n",
      "=================================================================\n",
      "Total params: 653,306\n",
      "Trainable params: 653,306\n",
      "Non-trainable params: 0\n",
      "_________________________________________________________________\n"
     ]
    }
   ],
   "source": [
    "inputs = tf.keras.Input(shape=(None, input_length))\n",
    "\n",
    "embedding_units = [256]#, 128, 256] # tune this\n",
    "# # dense encoder model\n",
    "x = inputs\n",
    "for n in embedding_units:\n",
    "    x = dense_block(n)(x)\n",
    "out = classifier_lstm(embedding_units[-1])(x)\n",
    "\n",
    "model = tf.keras.Model(inputs=inputs, outputs=out)\n",
    "model.summary()"
   ]
  },
  {
   "cell_type": "code",
   "execution_count": 44,
   "id": "52105aa8",
   "metadata": {
    "papermill": {
     "duration": 0.074981,
     "end_time": "2023-04-22T13:59:54.046876",
     "exception": false,
     "start_time": "2023-04-22T13:59:53.971895",
     "status": "completed"
    },
    "tags": []
   },
   "outputs": [
    {
     "name": "stdout",
     "output_type": "stream",
     "text": [
      "[17525, 24535, 31545, 38555]\n"
     ]
    }
   ],
   "source": [
    "# add a decreasing learning rate scheduler to help convergence\n",
    "batch_size = 128\n",
    "validation_percentage = 0.05\n",
    "steps_per_epoch = int(94477*(1-validation_percentage)) // batch_size #701\n",
    "boundaries = [steps_per_epoch * n for n in [25, 35, 45, 55]] #23, 53, 60\n",
    "print(boundaries) #[16123, 24535, 31545, 37153, 42060]\n",
    "values = [1e-3,1e-4,1e-5,1e-6,1e-7] #,1e-8\n",
    "lr_sched = optimizers.schedules.PiecewiseConstantDecay(boundaries, values)\n",
    "\n",
    "optimizer = optimizers.Adam(lr_sched)\n",
    "# optimizer = optimizers.Adam()\n",
    "\n",
    "model.compile(optimizer=optimizer,\n",
    "              loss=tf.keras.losses.SparseCategoricalCrossentropy(name=\"loss\"),\n",
    "              metrics=[\"accuracy\",\"sparse_top_k_categorical_accuracy\"])"
   ]
  },
  {
   "cell_type": "code",
   "execution_count": 45,
   "id": "86e754a3",
   "metadata": {},
   "outputs": [
    {
     "name": "stdout",
     "output_type": "stream",
     "text": [
      "[PhysicalDevice(name='/physical_device:GPU:0', device_type='GPU')]\n"
     ]
    }
   ],
   "source": [
    "print(tf.config.list_physical_devices('GPU'))"
   ]
  },
  {
   "cell_type": "code",
   "execution_count": 46,
   "id": "ae8f578c",
   "metadata": {
    "papermill": {
     "duration": 1851.671073,
     "end_time": "2023-04-22T14:30:45.758699",
     "exception": false,
     "start_time": "2023-04-22T13:59:54.087626",
     "status": "completed"
    },
    "tags": []
   },
   "outputs": [
    {
     "name": "stderr",
     "output_type": "stream",
     "text": [
      "100%|████████████████████████████████████████████████████████████████████████████| 94477/94477 [33:23<00:00, 47.15it/s]\n"
     ]
    },
    {
     "name": "stdout",
     "output_type": "stream",
     "text": [
      "(89753, 32, 246)\n",
      "(89753,)\n",
      "Epoch 1/30\n",
      "702/702 - 13s - loss: 4.7453 - accuracy: 0.0562 - sparse_top_k_categorical_accuracy: 0.1793 - val_loss: 4.0482 - val_accuracy: 0.1274 - val_sparse_top_k_categorical_accuracy: 0.3427 - 13s/epoch - 18ms/step\n",
      "Epoch 2/30\n",
      "702/702 - 6s - loss: 3.5662 - accuracy: 0.1988 - sparse_top_k_categorical_accuracy: 0.4668 - val_loss: 3.3591 - val_accuracy: 0.2297 - val_sparse_top_k_categorical_accuracy: 0.5241 - 6s/epoch - 9ms/step\n",
      "Epoch 3/30\n",
      "702/702 - 7s - loss: 2.9457 - accuracy: 0.3122 - sparse_top_k_categorical_accuracy: 0.6099 - val_loss: 2.7547 - val_accuracy: 0.3597 - val_sparse_top_k_categorical_accuracy: 0.6503 - 7s/epoch - 10ms/step\n",
      "Epoch 4/30\n",
      "702/702 - 7s - loss: 2.5705 - accuracy: 0.3891 - sparse_top_k_categorical_accuracy: 0.6826 - val_loss: 2.5327 - val_accuracy: 0.4050 - val_sparse_top_k_categorical_accuracy: 0.6856 - 7s/epoch - 10ms/step\n",
      "Epoch 5/30\n",
      "702/702 - 7s - loss: 2.3223 - accuracy: 0.4437 - sparse_top_k_categorical_accuracy: 0.7260 - val_loss: 2.3207 - val_accuracy: 0.4505 - val_sparse_top_k_categorical_accuracy: 0.7221 - 7s/epoch - 9ms/step\n",
      "Epoch 6/30\n",
      "702/702 - 7s - loss: 2.1432 - accuracy: 0.4837 - sparse_top_k_categorical_accuracy: 0.7530 - val_loss: 2.1412 - val_accuracy: 0.4920 - val_sparse_top_k_categorical_accuracy: 0.7475 - 7s/epoch - 10ms/step\n",
      "Epoch 7/30\n",
      "702/702 - 7s - loss: 2.0074 - accuracy: 0.5139 - sparse_top_k_categorical_accuracy: 0.7736 - val_loss: 2.1503 - val_accuracy: 0.4945 - val_sparse_top_k_categorical_accuracy: 0.7500 - 7s/epoch - 10ms/step\n",
      "Epoch 8/30\n",
      "702/702 - 7s - loss: 1.8941 - accuracy: 0.5411 - sparse_top_k_categorical_accuracy: 0.7914 - val_loss: 2.0578 - val_accuracy: 0.5078 - val_sparse_top_k_categorical_accuracy: 0.7638 - 7s/epoch - 10ms/step\n",
      "Epoch 9/30\n",
      "702/702 - 7s - loss: 1.7890 - accuracy: 0.5644 - sparse_top_k_categorical_accuracy: 0.8052 - val_loss: 1.9890 - val_accuracy: 0.5203 - val_sparse_top_k_categorical_accuracy: 0.7731 - 7s/epoch - 10ms/step\n",
      "Epoch 10/30\n",
      "702/702 - 7s - loss: 1.6997 - accuracy: 0.5846 - sparse_top_k_categorical_accuracy: 0.8175 - val_loss: 1.9327 - val_accuracy: 0.5375 - val_sparse_top_k_categorical_accuracy: 0.7779 - 7s/epoch - 10ms/step\n",
      "Epoch 11/30\n",
      "702/702 - 7s - loss: 1.6268 - accuracy: 0.6014 - sparse_top_k_categorical_accuracy: 0.8285 - val_loss: 1.8363 - val_accuracy: 0.5599 - val_sparse_top_k_categorical_accuracy: 0.7921 - 7s/epoch - 10ms/step\n",
      "Epoch 12/30\n",
      "702/702 - 7s - loss: 1.5485 - accuracy: 0.6190 - sparse_top_k_categorical_accuracy: 0.8378 - val_loss: 1.8392 - val_accuracy: 0.5544 - val_sparse_top_k_categorical_accuracy: 0.7949 - 7s/epoch - 10ms/step\n",
      "Epoch 13/30\n",
      "702/702 - 7s - loss: 1.4942 - accuracy: 0.6324 - sparse_top_k_categorical_accuracy: 0.8442 - val_loss: 1.7772 - val_accuracy: 0.5724 - val_sparse_top_k_categorical_accuracy: 0.8012 - 7s/epoch - 10ms/step\n",
      "Epoch 14/30\n",
      "702/702 - 7s - loss: 1.4341 - accuracy: 0.6451 - sparse_top_k_categorical_accuracy: 0.8524 - val_loss: 1.7709 - val_accuracy: 0.5758 - val_sparse_top_k_categorical_accuracy: 0.8008 - 7s/epoch - 10ms/step\n",
      "Epoch 15/30\n",
      "702/702 - 7s - loss: 1.3763 - accuracy: 0.6598 - sparse_top_k_categorical_accuracy: 0.8592 - val_loss: 1.7668 - val_accuracy: 0.5768 - val_sparse_top_k_categorical_accuracy: 0.8012 - 7s/epoch - 11ms/step\n",
      "Epoch 16/30\n",
      "702/702 - 7s - loss: 1.3315 - accuracy: 0.6685 - sparse_top_k_categorical_accuracy: 0.8650 - val_loss: 1.7019 - val_accuracy: 0.5881 - val_sparse_top_k_categorical_accuracy: 0.8124 - 7s/epoch - 10ms/step\n",
      "Epoch 17/30\n",
      "702/702 - 7s - loss: 1.2789 - accuracy: 0.6820 - sparse_top_k_categorical_accuracy: 0.8714 - val_loss: 1.7519 - val_accuracy: 0.5768 - val_sparse_top_k_categorical_accuracy: 0.8074 - 7s/epoch - 10ms/step\n",
      "Epoch 18/30\n",
      "702/702 - 7s - loss: 1.2279 - accuracy: 0.6941 - sparse_top_k_categorical_accuracy: 0.8779 - val_loss: 1.7627 - val_accuracy: 0.5768 - val_sparse_top_k_categorical_accuracy: 0.8078 - 7s/epoch - 10ms/step\n",
      "Epoch 19/30\n",
      "702/702 - 8s - loss: 1.1953 - accuracy: 0.7013 - sparse_top_k_categorical_accuracy: 0.8807 - val_loss: 1.7463 - val_accuracy: 0.5811 - val_sparse_top_k_categorical_accuracy: 0.8105 - 8s/epoch - 11ms/step\n",
      "Epoch 20/30\n",
      "702/702 - 7s - loss: 1.1512 - accuracy: 0.7117 - sparse_top_k_categorical_accuracy: 0.8877 - val_loss: 1.7706 - val_accuracy: 0.5747 - val_sparse_top_k_categorical_accuracy: 0.8135 - 7s/epoch - 10ms/step\n",
      "Epoch 21/30\n",
      "702/702 - 7s - loss: 1.1181 - accuracy: 0.7183 - sparse_top_k_categorical_accuracy: 0.8910 - val_loss: 1.7408 - val_accuracy: 0.5900 - val_sparse_top_k_categorical_accuracy: 0.8074 - 7s/epoch - 10ms/step\n",
      "Epoch 22/30\n",
      "702/702 - 7s - loss: 1.0732 - accuracy: 0.7308 - sparse_top_k_categorical_accuracy: 0.8953 - val_loss: 1.7238 - val_accuracy: 0.5914 - val_sparse_top_k_categorical_accuracy: 0.8152 - 7s/epoch - 10ms/step\n",
      "Epoch 23/30\n",
      "702/702 - 6s - loss: 1.0468 - accuracy: 0.7361 - sparse_top_k_categorical_accuracy: 0.8998 - val_loss: 1.7583 - val_accuracy: 0.5851 - val_sparse_top_k_categorical_accuracy: 0.8097 - 6s/epoch - 9ms/step\n",
      "Epoch 24/30\n",
      "702/702 - 7s - loss: 1.0161 - accuracy: 0.7449 - sparse_top_k_categorical_accuracy: 0.9033 - val_loss: 1.7226 - val_accuracy: 0.6001 - val_sparse_top_k_categorical_accuracy: 0.8167 - 7s/epoch - 10ms/step\n",
      "Epoch 25/30\n",
      "702/702 - 7s - loss: 0.9786 - accuracy: 0.7545 - sparse_top_k_categorical_accuracy: 0.9074 - val_loss: 1.6569 - val_accuracy: 0.6156 - val_sparse_top_k_categorical_accuracy: 0.8232 - 7s/epoch - 10ms/step\n",
      "Epoch 26/30\n",
      "702/702 - 7s - loss: 0.7670 - accuracy: 0.8205 - sparse_top_k_categorical_accuracy: 0.9271 - val_loss: 1.6123 - val_accuracy: 0.6289 - val_sparse_top_k_categorical_accuracy: 0.8268 - 7s/epoch - 10ms/step\n",
      "Epoch 27/30\n",
      "702/702 - 7s - loss: 0.7279 - accuracy: 0.8337 - sparse_top_k_categorical_accuracy: 0.9303 - val_loss: 1.6089 - val_accuracy: 0.6287 - val_sparse_top_k_categorical_accuracy: 0.8262 - 7s/epoch - 10ms/step\n",
      "Epoch 28/30\n",
      "702/702 - 7s - loss: 0.7112 - accuracy: 0.8392 - sparse_top_k_categorical_accuracy: 0.9316 - val_loss: 1.6098 - val_accuracy: 0.6331 - val_sparse_top_k_categorical_accuracy: 0.8266 - 7s/epoch - 9ms/step\n",
      "Epoch 29/30\n",
      "702/702 - 6s - loss: 0.6999 - accuracy: 0.8420 - sparse_top_k_categorical_accuracy: 0.9326 - val_loss: 1.6121 - val_accuracy: 0.6298 - val_sparse_top_k_categorical_accuracy: 0.8249 - 6s/epoch - 9ms/step\n",
      "Epoch 30/30\n",
      "702/702 - 6s - loss: 0.6892 - accuracy: 0.8446 - sparse_top_k_categorical_accuracy: 0.9343 - val_loss: 1.6161 - val_accuracy: 0.6296 - val_sparse_top_k_categorical_accuracy: 0.8290 - 6s/epoch - 9ms/step\n"
     ]
    }
   ],
   "source": [
    "mode = \"training\"\n",
    "if mode == \"training\":\n",
    "    file_paths = df_train['path'].values#[:1000]\n",
    "    y_sign = df_train['sign'].values#[:1000]\n",
    "    X, y = get_data(file_paths, y_sign)\n",
    "\n",
    "    X, X_val, y, y_val = train_test_split(X, y, test_size=validation_percentage, random_state=123)\n",
    "\n",
    "    print(X.shape)\n",
    "    print(y.shape)\n",
    "\n",
    "    history = model.fit(X, y, \n",
    "                    epochs=30,\n",
    "                    batch_size=batch_size,\n",
    "                    validation_data=(X_val, y_val),\n",
    "                    verbose=2,\n",
    "                    #callbacks=[get_callbacks()]\n",
    "                   )\n",
    "\n",
    "    loss = history.history['loss']\n",
    "    val_loss = history.history['val_loss']\n",
    "    accuracy = history.history['accuracy']\n",
    "    val_accuracy = history.history['val_accuracy']\n",
    "    sparse_top_k_categorical_accuracy = history.history['sparse_top_k_categorical_accuracy']\n",
    "    val_sparse_top_k_categorical_accuracy = history.history['val_sparse_top_k_categorical_accuracy']"
   ]
  },
  {
   "cell_type": "code",
   "execution_count": 47,
   "id": "885a44fe-e153-4c46-858a-724de903b425",
   "metadata": {},
   "outputs": [
    {
     "data": {
      "text/plain": [
       "<matplotlib.legend.Legend at 0x234d4188460>"
      ]
     },
     "execution_count": 47,
     "metadata": {},
     "output_type": "execute_result"
    },
    {
     "data": {
      "image/png": "[encoded data removed]",
      "text/plain": [
       "<Figure size 640x480 with 1 Axes>"
      ]
     },
     "metadata": {},
     "output_type": "display_data"
    }
   ],
   "source": [
    "import matplotlib.pyplot as plt\n",
    "fig = plt.figure()\n",
    "plt.plot(val_accuracy, label='val_accuracy')\n",
    "plt.plot(accuracy, label='accuracy')\n",
    "\n",
    "plt.xlabel('Epoch')\n",
    "plt.ylabel('Accuracy')\n",
    "# plt.ylim([0.5, 1])\n",
    "plt.legend()\n"
   ]
  },
  {
   "cell_type": "code",
   "execution_count": 48,
   "id": "b7b6fc21-a413-4202-8b23-7cb86717bf88",
   "metadata": {},
   "outputs": [
    {
     "data": {
      "text/plain": [
       "<matplotlib.legend.Legend at 0x231f2071430>"
      ]
     },
     "execution_count": 48,
     "metadata": {},
     "output_type": "execute_result"
    },
    {
     "data": {
      "image/png": "[encoded data removed]",
      "text/plain": [
       "<Figure size 640x480 with 1 Axes>"
      ]
     },
     "metadata": {},
     "output_type": "display_data"
    }
   ],
   "source": [
    "import matplotlib.pyplot as plt\n",
    "fig = plt.figure()\n",
    "\n",
    "plt.plot(val_loss, label='val_loss')\n",
    "plt.plot(loss, label='loss')\n",
    "\n",
    "plt.xlabel('Epoch')\n",
    "plt.ylabel('Accuracy')\n",
    "# plt.ylim([0.5, 1])\n",
    "plt.legend()\n"
   ]
  },
  {
   "cell_type": "code",
   "execution_count": 49,
   "id": "5fd398d1-a806-4a7b-bd4f-afd5907a3b9f",
   "metadata": {},
   "outputs": [
    {
     "data": {
      "text/plain": [
       "<matplotlib.legend.Legend at 0x231f2105400>"
      ]
     },
     "execution_count": 49,
     "metadata": {},
     "output_type": "execute_result"
    },
    {
     "data": {
      "image/png": "[encoded data removed]",
      "text/plain": [
       "<Figure size 640x480 with 1 Axes>"
      ]
     },
     "metadata": {},
     "output_type": "display_data"
    }
   ],
   "source": [
    "import matplotlib.pyplot as plt\n",
    "fig = plt.figure()\n",
    "\n",
    "plt.plot(val_sparse_top_k_categorical_accuracy, label='val_sparse_top_k_categorical_accuracy')\n",
    "plt.plot(sparse_top_k_categorical_accuracy, label='sparse_top_k_categorical_accuracy')\n",
    "\n",
    "plt.xlabel('Epoch')\n",
    "plt.ylabel('Accuracy')\n",
    "# plt.ylim([0.5, 1])\n",
    "plt.legend()"
   ]
  },
  {
   "cell_type": "code",
   "execution_count": 52,
   "id": "e2e6dea6-b7e1-46fa-b75b-a5f0cb766c5a",
   "metadata": {},
   "outputs": [
    {
     "name": "stdout",
     "output_type": "stream",
     "text": [
      "148/148 [==============================] - 1s 4ms/step\n",
      "Precision: 0.6455\n",
      "Recall: 0.6296\n"
     ]
    }
   ],
   "source": [
    "from sklearn.metrics import precision_score, recall_score\n",
    "\n",
    "# Get predictions for the validation set\n",
    "y_pred_probs = model.predict(X_val)  # Predicted probabilities\n",
    "y_pred = y_pred_probs.argmax(axis=1)  # Convert to predicted class indices\n",
    "\n",
    "# Calculate precision and recall\n",
    "precision = precision_score(y_val, y_pred, average='weighted')  # Weighted for multiclass\n",
    "recall = recall_score(y_val, y_pred, average='weighted')\n",
    "\n",
    "print(f\"Precision: {precision:.4f}\")\n",
    "print(f\"Recall: {recall:.4f}\")"
   ]
  },
  {
   "cell_type": "code",
   "execution_count": null,
   "id": "9d14bd86-d61e-47d0-bdea-0e1796a6421f",
   "metadata": {},
   "outputs": [],
   "source": [
    "import matplotlib.pyplot as plt\n",
    "from sklearn.metrics import precision_score, recall_score\n",
    "\n",
    "# Placeholder for storing metrics\n",
    "precision_values = []\n",
    "recall_values = []\n",
    "epochs=30\n",
    "\n",
    "for epoch in range(epochs):\n",
    "    # Train your model for one epoch (adjust for your framework)\n",
    "    history = model.fit(X, y, epochs=1, validation_data=(x_val, y_val), verbose=0)\n",
    "\n",
    "    # Get predictions on validation set\n",
    "    y_pred_probs = model.predict(X_val)  # Predicted probabilities\n",
    "    y_pred = y_pred_probs.argmax(axis=1)  # Predicted class indices\n",
    "\n",
    "    # Calculate precision and recall\n",
    "    precision = precision_score(y_val, y_pred, average='weighted')  # Adjust `average` as needed\n",
    "    recall = recall_score(y_val, y_pred, average='weighted')\n",
    "\n",
    "    # Store the metrics\n",
    "    precision_values.append(precision)\n",
    "    recall_values.append(recall)\n",
    "\n",
    "# Plot precision and recall over epochs\n",
    "plt.figure(figsize=(10, 6))\n",
    "plt.plot(range(1, epochs + 1), precision_values, label=\"Precision\", marker='o')\n",
    "plt.plot(range(1, epochs + 1), recall_values, label=\"Recall\", marker='o')\n",
    "plt.title(\"Precision and Recall Over Epochs\")\n",
    "plt.xlabel(\"Epochs\")\n",
    "plt.ylabel(\"Metric Value\")\n",
    "plt.legend()\n",
    "plt.grid(True)\n",
    "plt.show()"
   ]
  },
  {
   "cell_type": "code",
   "execution_count": 53,
   "id": "6815522b-e989-45b6-89cc-df097f02e2e9",
   "metadata": {},
   "outputs": [],
   "source": [
    "#history.save('my_model.h5')\n",
    "model.save('my_model.h5')"
   ]
  },
  {
   "cell_type": "code",
   "execution_count": null,
   "id": "a4105bd9-4049-4312-8e9b-26b725c2d04a",
   "metadata": {},
   "outputs": [],
   "source": [
    "#test_loss, test_acc = model.evaluate(X,  y, verbose=1)"
   ]
  },
  {
   "cell_type": "code",
   "execution_count": 32,
   "id": "9724f7ec",
   "metadata": {
    "papermill": {
     "duration": 0.803888,
     "end_time": "2023-04-22T14:30:47.285316",
     "exception": false,
     "start_time": "2023-04-22T14:30:46.481428",
     "status": "completed"
    },
    "tags": []
   },
   "outputs": [],
   "source": [
    "if mode == \"training\":\n",
    "    del X\n",
    "    del y\n",
    "    del X_val\n",
    "    del y_val"
   ]
  },
  {
   "cell_type": "markdown",
   "id": "e9fc8619",
   "metadata": {
    "papermill": {
     "duration": 0.711122,
     "end_time": "2023-04-22T14:31:21.841191",
     "exception": false,
     "start_time": "2023-04-22T14:31:21.130069",
     "status": "completed"
    },
    "tags": []
   },
   "source": [
    "# Convert final model in a tf.lite model\n",
    "Add a preprocessing pipeline and save the model as tf.lite model"
   ]
  },
  {
   "cell_type": "code",
   "execution_count": 54,
   "id": "5312b370",
   "metadata": {
    "papermill": {
     "duration": 0.728719,
     "end_time": "2023-04-22T14:31:23.377418",
     "exception": false,
     "start_time": "2023-04-22T14:31:22.648699",
     "status": "completed"
    },
    "tags": []
   },
   "outputs": [],
   "source": [
    "lips = lip_marks\n",
    "left_hand = [*range(start_left_hand, start_left_hand+left_hand_landmarks, 1)]\n",
    "right_hand = [*range(start_right_hand, start_right_hand+right_hand_landmarks, 1)]\n",
    "meaningful_keypoints = lips + left_hand + right_hand\n",
    "\n",
    "\n",
    "def get_inference_model(model):\n",
    "    inputs = tf.keras.Input(shape=(ROWS_PER_FRAME,3), name=\"inputs\")\n",
    "    \n",
    "    # drop most of the face mesh\n",
    "    x = tf.gather(inputs, meaningful_keypoints, axis=1)\n",
    "\n",
    "    # fill nan\n",
    "    x = tf.where(tf.math.is_nan(x), tf.zeros_like(x), x)\n",
    "\n",
    "    # flatten landmark xyz coordinates ()\n",
    "    x = tf.concat([x[...,i] for i in range(3)], -1)\n",
    "\n",
    "    x = tf.expand_dims(x,0)\n",
    "    \n",
    "    # call trained model\n",
    "    out = model(x)\n",
    "    \n",
    "    # explicitly name the final (identity) layer for the submission format\n",
    "    outputs = layers.Activation(\"linear\", name=\"outputs\")(out)\n",
    "    \n",
    "    inference_model = tf.keras.Model(inputs=inputs, outputs=outputs)\n",
    "    inference_model.compile(loss=\"sparse_categorical_crossentropy\",\n",
    "                            metrics=\"accuracy\")\n",
    "    return inference_model"
   ]
  },
  {
   "cell_type": "code",
   "execution_count": 55,
   "id": "a07093e4-152f-49ce-8145-ef49c9558369",
   "metadata": {},
   "outputs": [
    {
     "name": "stdout",
     "output_type": "stream",
     "text": [
      "Model: \"model_2\"\n",
      "__________________________________________________________________________________________________\n",
      " Layer (type)                   Output Shape         Param #     Connected to                     \n",
      "==================================================================================================\n",
      " inputs (InputLayer)            [(None, 543, 3)]     0           []                               \n",
      "                                                                                                  \n",
      " tf.compat.v1.gather (TFOpLambd  (None, 82, 3)       0           ['inputs[0][0]']                 \n",
      " a)                                                                                               \n",
      "                                                                                                  \n",
      " tf.math.is_nan (TFOpLambda)    (None, 82, 3)        0           ['tf.compat.v1.gather[0][0]']    \n",
      "                                                                                                  \n",
      " tf.zeros_like (TFOpLambda)     (None, 82, 3)        0           ['tf.compat.v1.gather[0][0]']    \n",
      "                                                                                                  \n",
      " tf.where (TFOpLambda)          (None, 82, 3)        0           ['tf.math.is_nan[0][0]',         \n",
      "                                                                  'tf.zeros_like[0][0]',          \n",
      "                                                                  'tf.compat.v1.gather[0][0]']    \n",
      "                                                                                                  \n",
      " tf.__operators__.getitem (Slic  (None, 82)          0           ['tf.where[0][0]']               \n",
      " ingOpLambda)                                                                                     \n",
      "                                                                                                  \n",
      " tf.__operators__.getitem_1 (Sl  (None, 82)          0           ['tf.where[0][0]']               \n",
      " icingOpLambda)                                                                                   \n",
      "                                                                                                  \n",
      " tf.__operators__.getitem_2 (Sl  (None, 82)          0           ['tf.where[0][0]']               \n",
      " icingOpLambda)                                                                                   \n",
      "                                                                                                  \n",
      " tf.concat (TFOpLambda)         (None, 246)          0           ['tf.__operators__.getitem[0][0]'\n",
      "                                                                 , 'tf.__operators__.getitem_1[0][\n",
      "                                                                 0]',                             \n",
      "                                                                  'tf.__operators__.getitem_2[0][0\n",
      "                                                                 ]']                              \n",
      "                                                                                                  \n",
      " tf.expand_dims (TFOpLambda)    (1, None, 246)       0           ['tf.concat[0][0]']              \n",
      "                                                                                                  \n",
      " model_1 (Functional)           (None, 250)          653306      ['tf.expand_dims[0][0]']         \n",
      "|¯¯¯¯¯¯¯¯¯¯¯¯¯¯¯¯¯¯¯¯¯¯¯¯¯¯¯¯¯¯¯¯¯¯¯¯¯¯¯¯¯¯¯¯¯¯¯¯¯¯¯¯¯¯¯¯¯¯¯¯¯¯¯¯¯¯¯¯¯¯¯¯¯¯¯¯¯¯¯¯¯¯¯¯¯¯¯¯¯¯¯¯¯¯¯¯|\n",
      "| input_2 (InputLayer)         [(None, None, 246)]  0           []                               |\n",
      "|                                                                                                |\n",
      "| dense_1 (Dense)              (None, None, 256)    63232       []                               |\n",
      "|                                                                                                |\n",
      "| layer_normalization_1 (LayerNo  (None, None, 256)  512        []                               |\n",
      "| rmalization)                                                                                   |\n",
      "|                                                                                                |\n",
      "| activation_1 (Activation)    (None, None, 256)    0           []                               |\n",
      "|                                                                                                |\n",
      "| dropout_1 (Dropout)          (None, None, 256)    0           []                               |\n",
      "|                                                                                                |\n",
      "| lstm_1 (LSTM)                (None, 256)          525312      []                               |\n",
      "|                                                                                                |\n",
      "| outputs (Dense)              (None, 250)          64250       []                               |\n",
      "¯¯¯¯¯¯¯¯¯¯¯¯¯¯¯¯¯¯¯¯¯¯¯¯¯¯¯¯¯¯¯¯¯¯¯¯¯¯¯¯¯¯¯¯¯¯¯¯¯¯¯¯¯¯¯¯¯¯¯¯¯¯¯¯¯¯¯¯¯¯¯¯¯¯¯¯¯¯¯¯¯¯¯¯¯¯¯¯¯¯¯¯¯¯¯¯¯¯\n",
      " outputs (Activation)           (1, 250)             0           ['model_1[0][0]']                \n",
      "                                                                                                  \n",
      "==================================================================================================\n",
      "Total params: 653,306\n",
      "Trainable params: 653,306\n",
      "Non-trainable params: 0\n",
      "__________________________________________________________________________________________________\n"
     ]
    }
   ],
   "source": [
    "inference_model = get_inference_model(model)\n",
    "inference_model.summary(expand_nested=True)"
   ]
  },
  {
   "cell_type": "code",
   "execution_count": 56,
   "id": "a733ba2d",
   "metadata": {
    "_kg_hide-output": true,
    "papermill": {
     "duration": 14.596927,
     "end_time": "2023-04-22T14:31:41.307537",
     "exception": false,
     "start_time": "2023-04-22T14:31:26.710610",
     "status": "completed"
    },
    "tags": []
   },
   "outputs": [
    {
     "name": "stderr",
     "output_type": "stream",
     "text": [
      "WARNING:absl:Found untraced functions such as lstm_cell_1_layer_call_fn, lstm_cell_1_layer_call_and_return_conditional_losses while saving (showing 2 of 2). These functions will not be directly callable after loading.\n"
     ]
    },
    {
     "name": "stdout",
     "output_type": "stream",
     "text": [
      "INFO:tensorflow:Assets written to: C:\\Users\\matth\\AppData\\Local\\Temp\\tmple60hd72\\assets\n"
     ]
    },
    {
     "name": "stderr",
     "output_type": "stream",
     "text": [
      "INFO:tensorflow:Assets written to: C:\\Users\\matth\\AppData\\Local\\Temp\\tmple60hd72\\assets\n"
     ]
    }
   ],
   "source": [
    "if mode == \"training\":\n",
    "    converter = tf.lite.TFLiteConverter.from_keras_model(inference_model)\n",
    "    tflite_model = converter.convert()"
   ]
  },
  {
   "cell_type": "code",
   "execution_count": 57,
   "id": "5c8e8c1d",
   "metadata": {
    "papermill": {
     "duration": 0.783595,
     "end_time": "2023-04-22T14:31:42.805887",
     "exception": false,
     "start_time": "2023-04-22T14:31:42.022292",
     "status": "completed"
    },
    "tags": []
   },
   "outputs": [],
   "source": [
    "# /kaggle/input/asl-signs/train.csv -> asl-signs/train.csv\n",
    "#df_train = pd.read_csv(\"asl-signs/train.csv\")\n",
    "\n",
    "if mode == \"training\":\n",
    "    with open('model.tflite', 'wb') as f:\n",
    "        f.write(tflite_model)"
   ]
  },
  {
   "cell_type": "code",
   "execution_count": 58,
   "id": "2b1cb1a3-cdbd-482a-992b-86d4fec5f550",
   "metadata": {},
   "outputs": [],
   "source": [
    "model.save('my_model.h5')"
   ]
  },
  {
   "cell_type": "markdown",
   "id": "d1960356-6011-4e23-a8f4-c34618ead70d",
   "metadata": {},
   "source": [
    "# Testing Evaluation Set"
   ]
  },
  {
   "cell_type": "code",
   "execution_count": 59,
   "id": "57deddee-b733-422f-bd3e-863a3a7ba1a7",
   "metadata": {},
   "outputs": [
    {
     "name": "stdout",
     "output_type": "stream",
     "text": [
      "15204\n"
     ]
    },
    {
     "data": {
      "text/html": [
       "<div>\n",
       "<style scoped>\n",
       "    .dataframe tbody tr th:only-of-type {\n",
       "        vertical-align: middle;\n",
       "    }\n",
       "\n",
       "    .dataframe tbody tr th {\n",
       "        vertical-align: top;\n",
       "    }\n",
       "\n",
       "    .dataframe thead th {\n",
       "        text-align: right;\n",
       "    }\n",
       "</style>\n",
       "<table border=\"1\" class=\"dataframe\">\n",
       "  <thead>\n",
       "    <tr style=\"text-align: right;\">\n",
       "      <th></th>\n",
       "      <th>frame</th>\n",
       "      <th>row_id</th>\n",
       "      <th>type</th>\n",
       "      <th>landmark_index</th>\n",
       "      <th>x</th>\n",
       "      <th>y</th>\n",
       "      <th>z</th>\n",
       "    </tr>\n",
       "  </thead>\n",
       "  <tbody>\n",
       "    <tr>\n",
       "      <th>0</th>\n",
       "      <td>15</td>\n",
       "      <td>15-face-0</td>\n",
       "      <td>face</td>\n",
       "      <td>0</td>\n",
       "      <td>0.406384</td>\n",
       "      <td>0.288688</td>\n",
       "      <td>-0.045984</td>\n",
       "    </tr>\n",
       "    <tr>\n",
       "      <th>1</th>\n",
       "      <td>15</td>\n",
       "      <td>15-face-1</td>\n",
       "      <td>face</td>\n",
       "      <td>1</td>\n",
       "      <td>0.406463</td>\n",
       "      <td>0.239606</td>\n",
       "      <td>-0.065486</td>\n",
       "    </tr>\n",
       "    <tr>\n",
       "      <th>2</th>\n",
       "      <td>15</td>\n",
       "      <td>15-face-2</td>\n",
       "      <td>face</td>\n",
       "      <td>2</td>\n",
       "      <td>0.406328</td>\n",
       "      <td>0.252833</td>\n",
       "      <td>-0.040444</td>\n",
       "    </tr>\n",
       "    <tr>\n",
       "      <th>3</th>\n",
       "      <td>15</td>\n",
       "      <td>15-face-3</td>\n",
       "      <td>face</td>\n",
       "      <td>3</td>\n",
       "      <td>0.394318</td>\n",
       "      <td>0.212758</td>\n",
       "      <td>-0.041679</td>\n",
       "    </tr>\n",
       "    <tr>\n",
       "      <th>4</th>\n",
       "      <td>15</td>\n",
       "      <td>15-face-4</td>\n",
       "      <td>face</td>\n",
       "      <td>4</td>\n",
       "      <td>0.406276</td>\n",
       "      <td>0.230239</td>\n",
       "      <td>-0.066998</td>\n",
       "    </tr>\n",
       "  </tbody>\n",
       "</table>\n",
       "</div>"
      ],
      "text/plain": [
       "   frame     row_id  type  landmark_index         x         y         z\n",
       "0     15  15-face-0  face               0  0.406384  0.288688 -0.045984\n",
       "1     15  15-face-1  face               1  0.406463  0.239606 -0.065486\n",
       "2     15  15-face-2  face               2  0.406328  0.252833 -0.040444\n",
       "3     15  15-face-3  face               3  0.394318  0.212758 -0.041679\n",
       "4     15  15-face-4  face               4  0.406276  0.230239 -0.066998"
      ]
     },
     "execution_count": 59,
     "metadata": {},
     "output_type": "execute_result"
    }
   ],
   "source": [
    "#LANDMARK_FILES_DIR = \"asl-signs/train_landmark_files\"\n",
    "LANDMARK_FILES_DIR = \"test_ml/test_landmark_files\"\n",
    "TRAIN_FILE = \"asl-signs/train.csv\"\n",
    "\n",
    "#sample = pd.read_parquet(\"asl-signs/train_landmark_files/16069/100015657.parquet\")\n",
    "sample = pd.read_parquet(\"test_ml/test_landmark_files/2455/3499193.parquet\")\n",
    "print(len(sample))\n",
    "sample.head()"
   ]
  },
  {
   "cell_type": "code",
   "execution_count": 60,
   "id": "2aacdd3c-6199-483e-9c27-92863233190e",
   "metadata": {},
   "outputs": [
    {
     "name": "stdout",
     "output_type": "stream",
     "text": [
      "39443\n"
     ]
    },
    {
     "data": {
      "text/html": [
       "<div>\n",
       "<style scoped>\n",
       "    .dataframe tbody tr th:only-of-type {\n",
       "        vertical-align: middle;\n",
       "    }\n",
       "\n",
       "    .dataframe tbody tr th {\n",
       "        vertical-align: top;\n",
       "    }\n",
       "\n",
       "    .dataframe thead th {\n",
       "        text-align: right;\n",
       "    }\n",
       "</style>\n",
       "<table border=\"1\" class=\"dataframe\">\n",
       "  <thead>\n",
       "    <tr style=\"text-align: right;\">\n",
       "      <th></th>\n",
       "      <th>path</th>\n",
       "      <th>sign</th>\n",
       "      <th>Usage</th>\n",
       "    </tr>\n",
       "  </thead>\n",
       "  <tbody>\n",
       "    <tr>\n",
       "      <th>0</th>\n",
       "      <td>test_landmark_files/11672/1000061708.parquet</td>\n",
       "      <td>go</td>\n",
       "      <td>Private</td>\n",
       "    </tr>\n",
       "    <tr>\n",
       "      <th>1</th>\n",
       "      <td>test_landmark_files/14938/1000072466.parquet</td>\n",
       "      <td>read</td>\n",
       "      <td>Public</td>\n",
       "    </tr>\n",
       "    <tr>\n",
       "      <th>2</th>\n",
       "      <td>test_landmark_files/14938/1000109638.parquet</td>\n",
       "      <td>sleep</td>\n",
       "      <td>Public</td>\n",
       "    </tr>\n",
       "    <tr>\n",
       "      <th>3</th>\n",
       "      <td>test_landmark_files/23662/1000358701.parquet</td>\n",
       "      <td>elephant</td>\n",
       "      <td>Public</td>\n",
       "    </tr>\n",
       "    <tr>\n",
       "      <th>4</th>\n",
       "      <td>test_landmark_files/2455/100039661.parquet</td>\n",
       "      <td>dog</td>\n",
       "      <td>Private</td>\n",
       "    </tr>\n",
       "  </tbody>\n",
       "</table>\n",
       "</div>"
      ],
      "text/plain": [
       "                                           path      sign    Usage\n",
       "0  test_landmark_files/11672/1000061708.parquet        go  Private\n",
       "1  test_landmark_files/14938/1000072466.parquet      read   Public\n",
       "2  test_landmark_files/14938/1000109638.parquet     sleep   Public\n",
       "3  test_landmark_files/23662/1000358701.parquet  elephant   Public\n",
       "4    test_landmark_files/2455/100039661.parquet       dog  Private"
      ]
     },
     "execution_count": 60,
     "metadata": {},
     "output_type": "execute_result"
    }
   ],
   "source": [
    "#TEST_FILE = \"test_ml/labels.parqet\"\n",
    "TEST_FILE = pd.read_parquet(\"test_ml/labels.parqet\")\n",
    "print(len(TEST_FILE))\n",
    "TEST_FILE.head()\n",
    "\n"
   ]
  },
  {
   "cell_type": "code",
   "execution_count": 61,
   "id": "99f6fa0d-da94-4121-872d-a50aa12e625d",
   "metadata": {},
   "outputs": [],
   "source": [
    "def get_test_data(file_paths, y_sign):\n",
    "    \n",
    "    X = np.empty((file_paths.shape[0], max_sequence_length, len(meaningful_keypoints)*3), dtype=float)\n",
    "\n",
    "    for i in tqdm(range(file_paths.shape[0])):\n",
    "        file_name = \"test_ml/\"+file_paths[i]\n",
    "        data = load_relevant_data_subset(file_name)\n",
    "        \n",
    "        data = data[:, meaningful_keypoints]\n",
    "        \n",
    "        if data.shape[0] < max_sequence_length:\n",
    "            rows = max_sequence_length - data.shape[0]\n",
    "            data = np.append(np.zeros((rows, len(meaningful_keypoints), 3)), data, axis=0)\n",
    "        elif data.shape[0] > max_sequence_length:\n",
    "            data = data[-(max_sequence_length):]\n",
    "\n",
    "        X[i] = data.reshape(max_sequence_length, len(meaningful_keypoints)*3, order='F')\n",
    "        \n",
    "        del data\n",
    "        \n",
    "    X = np.asarray(X).astype(np.float32)\n",
    "        \n",
    "    y = []\n",
    "    for sign in y_sign:\n",
    "        y.append(sign_dict[sign])\n",
    "\n",
    "    y = np.array(y, dtype=int)\n",
    "\n",
    "    return X, y"
   ]
  },
  {
   "cell_type": "code",
   "execution_count": 62,
   "id": "9582d3cc-94d1-4cdf-838f-409b8fd5ed42",
   "metadata": {},
   "outputs": [
    {
     "name": "stderr",
     "output_type": "stream",
     "text": [
      "100%|████████████████████████████████████████████████████████████████████████████| 39443/39443 [13:20<00:00, 49.30it/s]\n"
     ]
    }
   ],
   "source": [
    "#use x_test path to get data, model to evaluate it, and compare it to y_test\n",
    "x_test_path = TEST_FILE['path']\n",
    "y_test_sign = TEST_FILE['sign']\n",
    "X_test, Y_test = get_test_data(x_test_path.values, y_test_sign.values)"
   ]
  },
  {
   "cell_type": "code",
   "execution_count": 63,
   "id": "07f816eb-f258-4d8e-9aef-b4a5aa3cd533",
   "metadata": {},
   "outputs": [
    {
     "name": "stdout",
     "output_type": "stream",
     "text": [
      "dict_keys(['loss', 'accuracy', 'sparse_top_k_categorical_accuracy', 'val_loss', 'val_accuracy', 'val_sparse_top_k_categorical_accuracy'])\n",
      "Model: \"model_1\"\n",
      "_________________________________________________________________\n",
      " Layer (type)                Output Shape              Param #   \n",
      "=================================================================\n",
      " input_2 (InputLayer)        [(None, None, 246)]       0         \n",
      "                                                                 \n",
      " dense_1 (Dense)             (None, None, 256)         63232     \n",
      "                                                                 \n",
      " layer_normalization_1 (Laye  (None, None, 256)        512       \n",
      " rNormalization)                                                 \n",
      "                                                                 \n",
      " activation_1 (Activation)   (None, None, 256)         0         \n",
      "                                                                 \n",
      " dropout_1 (Dropout)         (None, None, 256)         0         \n",
      "                                                                 \n",
      " lstm_1 (LSTM)               (None, 256)               525312    \n",
      "                                                                 \n",
      " outputs (Dense)             (None, 250)               64250     \n",
      "                                                                 \n",
      "=================================================================\n",
      "Total params: 653,306\n",
      "Trainable params: 653,306\n",
      "Non-trainable params: 0\n",
      "_________________________________________________________________\n"
     ]
    }
   ],
   "source": [
    "# Recreate the exact same model, including its weights and the optimizer\n",
    "new_model = tf.keras.models.load_model('my_model.h5')\n",
    "\n",
    "print(history.history.keys())\n",
    "\n",
    "# Show the model architecture\n",
    "new_model.summary()"
   ]
  },
  {
   "cell_type": "code",
   "execution_count": 64,
   "id": "455f3872-e8b7-4747-b40e-d2b5c87ce156",
   "metadata": {},
   "outputs": [
    {
     "name": "stdout",
     "output_type": "stream",
     "text": [
      "1233/1233 - 5s - loss: 1.9416 - accuracy: 0.5704 - sparse_top_k_categorical_accuracy: 0.8084 - 5s/epoch - 4ms/step\n"
     ]
    }
   ],
   "source": [
    "loss, accuracy, sparse_top_k_categorical_accuracy = new_model.evaluate(X_test, Y_test, verbose=2) #batch_size = 128\n",
    "#print('Restored model, accuracy: {:5.2f}%'.format(100 * accuracy))"
   ]
  },
  {
   "cell_type": "code",
   "execution_count": 65,
   "id": "7d3f2c15-4993-439c-8ce2-4e15b2fd92da",
   "metadata": {},
   "outputs": [
    {
     "name": "stdout",
     "output_type": "stream",
     "text": [
      "Restored model, accuracy: 57.04%\n",
      "Restored model, loss:  1.94%\n",
      "Restored model, sparse_cat_acc: 80.84%\n"
     ]
    }
   ],
   "source": [
    "print('Restored model, accuracy: {:5.2f}%'.format(100 * accuracy))\n",
    "print('Restored model, loss: {:5.2f}%'.format(loss))\n",
    "print('Restored model, sparse_cat_acc: {:5.2f}%'.format(100 * sparse_top_k_categorical_accuracy))"
   ]
  },
  {
   "cell_type": "code",
   "execution_count": null,
   "id": "7bed9931",
   "metadata": {
    "papermill": {
     "duration": 0.827876,
     "end_time": "2023-04-22T14:32:08.823348",
     "exception": false,
     "start_time": "2023-04-22T14:32:07.995472",
     "status": "completed"
    },
    "tags": []
   },
   "outputs": [],
   "source": []
  }
 ],
 "metadata": {
  "kernelspec": {
   "display_name": "Python 3 (ipykernel)",
   "language": "python",
   "name": "python3"
  },
  "language_info": {
   "codemirror_mode": {
    "name": "ipython",
    "version": 3
   },
   "file_extension": ".py",
   "mimetype": "text/x-python",
   "name": "python",
   "nbconvert_exporter": "python",
   "pygments_lexer": "ipython3",
   "version": "3.9.20"
  },
  "papermill": {
   "default_parameters": {},
   "duration": 1982.602905,
   "end_time": "2023-04-22T14:32:13.613893",
   "environment_variables": {},
   "exception": null,
   "input_path": "__notebook__.ipynb",
   "output_path": "__notebook__.ipynb",
   "parameters": {},
   "start_time": "2023-04-22T13:59:11.010988",
   "version": "2.4.0"
  }
 },
 "nbformat": 4,
 "nbformat_minor": 5
}
